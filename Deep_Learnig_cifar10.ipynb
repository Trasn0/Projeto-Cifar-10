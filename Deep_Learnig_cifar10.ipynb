{
  "nbformat": 4,
  "nbformat_minor": 0,
  "metadata": {
    "colab": {
      "provenance": [],
      "gpuType": "T4"
    },
    "kernelspec": {
      "name": "python3",
      "display_name": "Python 3"
    },
    "language_info": {
      "name": "python"
    },
    "accelerator": "GPU"
  },
  "cells": [
    {
      "cell_type": "code",
      "execution_count": 8,
      "metadata": {
        "id": "HtFVipR2-rOu"
      },
      "outputs": [],
      "source": [
        "from keras.datasets import cifar10\n",
        "from keras.models import Sequential\n",
        "from keras.layers import Conv2D, MaxPooling2D, Flatten, Dense, Dropout, BatchNormalization\n",
        "from keras.optimizers import Adam\n",
        "from keras.utils import to_categorical\n",
        "from keras.callbacks import EarlyStopping\n",
        "import numpy as np\n",
        "import matplotlib.pyplot as plt\n",
        "import tensorflow as tf"
      ]
    },
    {
      "cell_type": "markdown",
      "source": [
        "1- Carregamos e pré-processamos os dados\n"
      ],
      "metadata": {
        "id": "b9nMOJ6BdDJj"
      }
    },
    {
      "cell_type": "code",
      "source": [
        "# Caaregar dados\n",
        "(x_train, y_train), (x_test, y_test) = cifar10.load_data()\n",
        "\n",
        "# Normalização (0-1) e One-Hot Encoding\n",
        "x_train = x_train.astype('float32') / 255\n",
        "x_test = x_test.astype('float32') / 255\n",
        "\n",
        "y_train = tf.keras.utils.to_categorical(y_train, 10)\n",
        "y_test = tf.keras.utils.to_categorical(y_test, 10)\n",
        "\n"
      ],
      "metadata": {
        "id": "XXXdUpg-_AR0",
        "colab": {
          "base_uri": "https://localhost:8080/"
        },
        "outputId": "280c89cf-d876-475f-a766-6531fdaef7ca"
      },
      "execution_count": 2,
      "outputs": [
        {
          "output_type": "stream",
          "name": "stdout",
          "text": [
            "Downloading data from https://www.cs.toronto.edu/~kriz/cifar-10-python.tar.gz\n",
            "\u001b[1m170498071/170498071\u001b[0m \u001b[32m━━━━━━━━━━━━━━━━━━━━\u001b[0m\u001b[37m\u001b[0m \u001b[1m2s\u001b[0m 0us/step\n"
          ]
        }
      ]
    },
    {
      "cell_type": "markdown",
      "source": [
        "2- Arquitetura CNN com keras"
      ],
      "metadata": {
        "id": "BbHlzkpveEfK"
      }
    },
    {
      "cell_type": "code",
      "source": [
        "model = Sequential([\n",
        "    # Primeiro bloco convolucional\n",
        "    Conv2D(32, (3, 3), activation='relu', padding='same', input_shape=(32, 32, 3)),\n",
        "    BatchNormalization(),\n",
        "    Conv2D(32, (3, 3), activation='relu', padding='same'),\n",
        "    MaxPooling2D((2, 2)),\n",
        "    Dropout(0.25),  # Dropout para evitar overfitting\n",
        "\n",
        "    # Segundo bloco convolucional\n",
        "    Conv2D(64, (3, 3), activation='relu', padding='same'),\n",
        "    BatchNormalization(),\n",
        "    Conv2D(64, (3, 3), activation='relu', padding='same'),\n",
        "    MaxPooling2D((2, 2)),\n",
        "    Dropout(0.25),\n",
        "\n",
        "    # Camadas densas (fully connected)\n",
        "    Flatten(),\n",
        "    Dense(128, activation='relu'),\n",
        "    BatchNormalization(),\n",
        "    Dropout(0.5),  # Dropout mais agressivo na camada densa\n",
        "    Dense(10, activation='softmax')  # Saída com 10 classes (CIFAR-10)\n",
        "])"
      ],
      "metadata": {
        "id": "Um-MTlS7d6I7"
      },
      "execution_count": 4,
      "outputs": []
    },
    {
      "cell_type": "markdown",
      "source": [
        "3- Compilar Modelo"
      ],
      "metadata": {
        "id": "95qWdAh6fOmI"
      }
    },
    {
      "cell_type": "code",
      "source": [
        "# 3. Compilar o modelo\n",
        "model.compile(\n",
        "    optimizer=Adam(learning_rate=0.001),\n",
        "    loss='categorical_crossentropy',\n",
        "    metrics=['accuracy']\n",
        ")"
      ],
      "metadata": {
        "id": "zBX7PCkefTwo"
      },
      "execution_count": 5,
      "outputs": []
    },
    {
      "cell_type": "markdown",
      "source": [
        "4- Evitar Overfiting com Early Stopping"
      ],
      "metadata": {
        "id": "7UY8iRONf5Ld"
      }
    },
    {
      "cell_type": "code",
      "source": [
        "# Callback para evitar overfitting (Early Stopping)\n",
        "early_stopping = EarlyStopping(\n",
        "    monitor='val_accuracy',\n",
        "    patience=10,\n",
        "    restore_best_weights=True\n",
        ")"
      ],
      "metadata": {
        "id": "IHSj1IoJgCGi"
      },
      "execution_count": 6,
      "outputs": []
    },
    {
      "cell_type": "markdown",
      "source": [
        "5- Treinamos a Rede\n"
      ],
      "metadata": {
        "id": "JER16gD3gq1N"
      }
    },
    {
      "cell_type": "code",
      "source": [
        "# Treino do modelo\n",
        "history = model.fit(\n",
        "    x_train, y_train,\n",
        "    batch_size=64,\n",
        "    epochs=10,\n",
        "    validation_data=(x_test, y_test),  # Dados de validação\n",
        "    callbacks=[early_stopping],\n",
        "    verbose=1\n",
        ")"
      ],
      "metadata": {
        "colab": {
          "base_uri": "https://localhost:8080/"
        },
        "id": "1FNpYsoSgyge",
        "outputId": "e1fd29d9-723c-4699-b3c4-c59f679f9ba9"
      },
      "execution_count": 7,
      "outputs": [
        {
          "output_type": "stream",
          "name": "stdout",
          "text": [
            "Epoch 1/10\n",
            "\u001b[1m782/782\u001b[0m \u001b[32m━━━━━━━━━━━━━━━━━━━━\u001b[0m\u001b[37m\u001b[0m \u001b[1m321s\u001b[0m 404ms/step - accuracy: 0.3804 - loss: 1.8361 - val_accuracy: 0.5387 - val_loss: 1.2513\n",
            "Epoch 2/10\n",
            "\u001b[1m782/782\u001b[0m \u001b[32m━━━━━━━━━━━━━━━━━━━━\u001b[0m\u001b[37m\u001b[0m \u001b[1m312s\u001b[0m 391ms/step - accuracy: 0.6240 - loss: 1.0739 - val_accuracy: 0.6898 - val_loss: 0.8791\n",
            "Epoch 3/10\n",
            "\u001b[1m782/782\u001b[0m \u001b[32m━━━━━━━━━━━━━━━━━━━━\u001b[0m\u001b[37m\u001b[0m \u001b[1m324s\u001b[0m 394ms/step - accuracy: 0.6858 - loss: 0.9110 - val_accuracy: 0.6843 - val_loss: 0.8725\n",
            "Epoch 4/10\n",
            "\u001b[1m782/782\u001b[0m \u001b[32m━━━━━━━━━━━━━━━━━━━━\u001b[0m\u001b[37m\u001b[0m \u001b[1m309s\u001b[0m 378ms/step - accuracy: 0.7154 - loss: 0.8175 - val_accuracy: 0.6985 - val_loss: 0.8619\n",
            "Epoch 5/10\n",
            "\u001b[1m782/782\u001b[0m \u001b[32m━━━━━━━━━━━━━━━━━━━━\u001b[0m\u001b[37m\u001b[0m \u001b[1m304s\u001b[0m 388ms/step - accuracy: 0.7372 - loss: 0.7616 - val_accuracy: 0.7582 - val_loss: 0.6899\n",
            "Epoch 6/10\n",
            "\u001b[1m782/782\u001b[0m \u001b[32m━━━━━━━━━━━━━━━━━━━━\u001b[0m\u001b[37m\u001b[0m \u001b[1m304s\u001b[0m 389ms/step - accuracy: 0.7543 - loss: 0.7058 - val_accuracy: 0.7594 - val_loss: 0.6833\n",
            "Epoch 7/10\n",
            "\u001b[1m782/782\u001b[0m \u001b[32m━━━━━━━━━━━━━━━━━━━━\u001b[0m\u001b[37m\u001b[0m \u001b[1m324s\u001b[0m 392ms/step - accuracy: 0.7669 - loss: 0.6733 - val_accuracy: 0.7646 - val_loss: 0.6641\n",
            "Epoch 8/10\n",
            "\u001b[1m782/782\u001b[0m \u001b[32m━━━━━━━━━━━━━━━━━━━━\u001b[0m\u001b[37m\u001b[0m \u001b[1m314s\u001b[0m 382ms/step - accuracy: 0.7800 - loss: 0.6384 - val_accuracy: 0.7624 - val_loss: 0.6947\n",
            "Epoch 9/10\n",
            "\u001b[1m782/782\u001b[0m \u001b[32m━━━━━━━━━━━━━━━━━━━━\u001b[0m\u001b[37m\u001b[0m \u001b[1m328s\u001b[0m 389ms/step - accuracy: 0.7886 - loss: 0.6108 - val_accuracy: 0.7663 - val_loss: 0.6706\n",
            "Epoch 10/10\n",
            "\u001b[1m782/782\u001b[0m \u001b[32m━━━━━━━━━━━━━━━━━━━━\u001b[0m\u001b[37m\u001b[0m \u001b[1m323s\u001b[0m 390ms/step - accuracy: 0.8004 - loss: 0.5810 - val_accuracy: 0.7404 - val_loss: 0.7721\n"
          ]
        }
      ]
    },
    {
      "cell_type": "markdown",
      "source": [
        "6- Avaliamos o modelo"
      ],
      "metadata": {
        "id": "jKDf4WUUg_Hg"
      }
    },
    {
      "cell_type": "code",
      "source": [
        "# Printar acuracia\n",
        "test_loss, test_acc = model.evaluate(x_test, y_test, verbose=1)\n",
        "print(f\"\\nAcurácia REAL no teste: {test_acc * 100:.2f}%\")"
      ],
      "metadata": {
        "colab": {
          "base_uri": "https://localhost:8080/"
        },
        "id": "trJDEvrkg-L7",
        "outputId": "a881b03b-1c79-4199-b458-3d002260dae8"
      },
      "execution_count": 9,
      "outputs": [
        {
          "output_type": "stream",
          "name": "stdout",
          "text": [
            "\u001b[1m313/313\u001b[0m \u001b[32m━━━━━━━━━━━━━━━━━━━━\u001b[0m\u001b[37m\u001b[0m \u001b[1m15s\u001b[0m 47ms/step - accuracy: 0.7682 - loss: 0.6661\n",
            "\n",
            "Acurácia REAL no teste: 76.63%\n"
          ]
        }
      ]
    },
    {
      "cell_type": "markdown",
      "source": [
        "Plotar a evolução do treinamento"
      ],
      "metadata": {
        "id": "j-KmOadqiHfP"
      }
    },
    {
      "cell_type": "code",
      "source": [
        "# plotamos treino\n",
        "plt.plot(history.history['accuracy'], label='Treino')\n",
        "plt.axhline(y=test_acc, color='r', linestyle='--', label='Teste')\n",
        "plt.title('Desempenho do Modelo')\n",
        "plt.xlabel('Épocas')\n",
        "plt.ylabel('Acurácia')\n",
        "plt.legend()\n",
        "plt.show()"
      ],
      "metadata": {
        "colab": {
          "base_uri": "https://localhost:8080/",
          "height": 474
        },
        "id": "2LpLLICiiQYT",
        "outputId": "f323cd98-7354-4471-82db-e93532ad8d52"
      },
      "execution_count": 10,
      "outputs": [
        {
          "output_type": "display_data",
          "data": {
            "text/plain": [
              "<Figure size 640x480 with 1 Axes>"
            ],
            "image/png": "[encoded data removed]"
          },
          "metadata": {}
        }
      ]
    }
  ]
}